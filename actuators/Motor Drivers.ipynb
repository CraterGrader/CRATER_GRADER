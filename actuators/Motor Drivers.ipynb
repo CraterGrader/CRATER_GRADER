{
 "cells": [
  {
   "cell_type": "code",
   "execution_count": null,
   "id": "346cb6f5",
   "metadata": {},
   "outputs": [],
   "source": [
    "# Importing Libraries\n",
    "import serial\n",
    "import time\n",
    "import keyboard\n",
    "arduino = serial.Serial(port='COM6', baudrate=115200, timeout=.1)\n",
    "speed = 10\n",
    "def write_read(x):\n",
    "    arduino.write(bytes(x, 'utf-8'))\n",
    "    time.sleep(0.05)\n",
    "    data = arduino.readline()\n",
    "    return data"
   ]
  },
  {
   "cell_type": "code",
   "execution_count": null,
   "id": "b701dfef",
   "metadata": {},
   "outputs": [],
   "source": [
    "while True:\n",
    "    if keyboard.is_pressed(\"up arrow\"):\n",
    "        value = write_read(str(64+speed))\n",
    "        print(value)\n",
    "    elif keyboard.is_pressed(\"down arrow\"):\n",
    "        value = write_read(str(64-speed))\n",
    "        print(value)\n",
    "    elif keyboard.is_pressed(' '):\n",
    "        value = write_read(str(64))\n",
    "        print(value)\n",
    "     # printing the value"
   ]
  },
  {
   "cell_type": "code",
   "execution_count": null,
   "id": "d650d756",
   "metadata": {},
   "outputs": [],
   "source": []
  },
  {
   "cell_type": "code",
   "execution_count": null,
   "id": "66da50a9",
   "metadata": {},
   "outputs": [],
   "source": []
  }
 ],
 "metadata": {
  "kernelspec": {
   "display_name": "Python 3",
   "language": "python",
   "name": "python3"
  },
  "language_info": {
   "codemirror_mode": {
    "name": "ipython",
    "version": 3
   },
   "file_extension": ".py",
   "mimetype": "text/x-python",
   "name": "python",
   "nbconvert_exporter": "python",
   "pygments_lexer": "ipython3",
   "version": "3.8.8"
  }
 },
 "nbformat": 4,
 "nbformat_minor": 5
}
